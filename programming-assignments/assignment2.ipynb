{
 "cells": [
  {
   "cell_type": "markdown",
   "id": "f00081a1",
   "metadata": {},
   "source": [
    "# Programming Assignment II: Quantum Circuits and Gates - Bell's Circuit and SWAP Test"
   ]
  },
  {
   "cell_type": "markdown",
   "id": "12e946e2",
   "metadata": {},
   "source": [
    "## Task 1.1"
   ]
  },
  {
   "cell_type": "code",
   "execution_count": 1,
   "id": "641eaff3",
   "metadata": {},
   "outputs": [],
   "source": [
    "import numpy as np\n",
    "\n",
    "DTYPE = np.complex128\n",
    "\n",
    "def ket00():\n",
    "    \"\"\"Return |00> as a length‑4 complex column vector.\"\"\"\n",
    "    v = np.zeros(4, dtype=DTYPE)\n",
    "    v[0] = 1.0\n",
    "    return v\n",
    "\n",
    "def normalize(v: np.ndarray) -> np.ndarray:\n",
    "    n = np.linalg.norm(v)\n",
    "    if n == 0:\n",
    "        raise ValueError(\"Zero vector cannot be normalized.\")\n",
    "    return v / n\n",
    "\n",
    "# Example\n",
    "psi = ket00()\n",
    "assert np.isclose(np.linalg.norm(psi), 1.0)"
   ]
  },
  {
   "cell_type": "markdown",
   "id": "5e7a2ee7",
   "metadata": {},
   "source": [
    "The basis is constructed in the following order: $\\ket{q_0 q_1} = \\ket{00}, \\ket{01}, \\ket{10}, \\ket{11}$\n",
    "\n",
    "To map a bitstring to the corresponding index, we use the next relation:\n",
    "\n",
    "$i = 2 q_0 + q_1$"
   ]
  },
  {
   "cell_type": "markdown",
   "id": "9abd71ee",
   "metadata": {},
   "source": [
    "## Task 1.2"
   ]
  },
  {
   "cell_type": "code",
   "execution_count": 2,
   "id": "aa33e995",
   "metadata": {},
   "outputs": [],
   "source": [
    "# 1‑qubit and 2‑qubit gate definitions (matrix form)\n",
    "I2 = np.array([[1, 0], [0, 1]], dtype=DTYPE)\n",
    "H  = (1/np.sqrt(2)) * np.array([[1, 1], [1, -1]], dtype=DTYPE)\n",
    "\n",
    "# CNOT with control = q0 (MSB), target = q1 (LSB) in basis |q0 q1>\n",
    "CNOT_01 = np.array([\n",
    "    [1,0,0,0],\n",
    "    [0,1,0,0],\n",
    "    [0,0,0,1],\n",
    "    [0,0,1,0]\n",
    "], dtype=DTYPE)\n",
    "\n",
    "# Expand a 1‑qubit unitary U to a 2‑qubit operator acting on target qubit t in |q0 q1> order\n",
    "# t = 0 applies to q0 (MSB); t = 1 applies to q1 (LSB)\n",
    "\n",
    "def expand_1q(U: np.ndarray, t: int) -> np.ndarray:\n",
    "    if t == 0:   # act on q0 (MSB)\n",
    "        return np.kron(U, I2)\n",
    "    elif t == 1: # act on q1 (LSB)\n",
    "        return np.kron(I2, U)\n",
    "    else:\n",
    "        raise ValueError(\"target index must be 0 or 1\")\n",
    "\n",
    "# Apply a gate matrix to a state vector\n",
    "\n",
    "def apply(U: np.ndarray, psi: np.ndarray) -> np.ndarray:\n",
    "    return U @ psi\n",
    "\n",
    "# Quick unit tests\n",
    "assert np.allclose(H.conj().T @ H, I2)\n",
    "assert np.allclose(CNOT_01.conj().T @ CNOT_01, np.eye(4))"
   ]
  },
  {
   "cell_type": "markdown",
   "id": "ce843832",
   "metadata": {},
   "source": [
    "In this code, the CNOT gate uses $q_0$ (MSB) as the control and $q_1$ (LSB) as the target, while keeping the same $\\ket{q_0 q_1}$ basis ordering. If the control qubit $q_0$ is 1, the gate flips (applies NOT to) the target qubit $q_1$."
   ]
  },
  {
   "cell_type": "markdown",
   "id": "54bd54e0",
   "metadata": {},
   "source": [
    "## Task 1.3"
   ]
  },
  {
   "cell_type": "code",
   "execution_count": 3,
   "id": "8871137e",
   "metadata": {},
   "outputs": [
    {
     "name": "stdout",
     "output_type": "stream",
     "text": [
      "Bell state vector: [0.707107+0.j 0.      +0.j 0.      +0.j 0.707107+0.j]\n"
     ]
    }
   ],
   "source": [
    "def bell_state() -> np.ndarray:\n",
    "    psi = ket00()\n",
    "    # H on q0 (MSB), then CNOT(control=q0, target=q1)\n",
    "    psi = apply(expand_1q(H, t=0), psi)\n",
    "    psi = apply(CNOT_01, psi)\n",
    "    return normalize(psi)\n",
    "\n",
    "psi_bell = bell_state()\n",
    "print(\"Bell state vector:\", np.round(psi_bell, 6))\n",
    "\n",
    "# Expected amplitudes (up to a global phase): [1/√2, 0, 0, 1/√2]\n",
    "\n",
    "expected = np.array([1/np.sqrt(2), 0, 0, 1/np.sqrt(2)], dtype=DTYPE) # The theoretical expected result\n",
    "inner = np.dot(psi_bell, expected)\n",
    "gl_phase = inner / np.abs(inner)\n",
    "assert np.allclose(psi_bell, gl_phase * expected)"
   ]
  },
  {
   "cell_type": "markdown",
   "id": "caf7dff6",
   "metadata": {},
   "source": [
    "## Task 1.4"
   ]
  },
  {
   "cell_type": "code",
   "execution_count": 4,
   "id": "c6ff5b13",
   "metadata": {},
   "outputs": [
    {
     "name": "stdout",
     "output_type": "stream",
     "text": [
      "{'00': 4983, '01': 0, '10': 0, '11': 5017}\n"
     ]
    },
    {
     "data": {
      "image/png": "[encoded data removed]",
      "text/plain": [
       "<Figure size 640x480 with 1 Axes>"
      ]
     },
     "metadata": {},
     "output_type": "display_data"
    }
   ],
   "source": [
    "import matplotlib.pyplot as plt\n",
    "\n",
    "BITSTR = [\"00\",\"01\",\"10\",\"11\"]\n",
    "\n",
    "def sample_bitstrings(psi: np.ndarray, shots: int = 10_000, seed: int = 7):\n",
    "    rng = np.random.default_rng(seed)\n",
    "    probs = np.abs(psi)**2\n",
    "    idx = rng.choice(4, size=shots, p=probs)\n",
    "    return idx\n",
    "\n",
    "# Sample from Bell state\n",
    "shots = 10_000\n",
    "idx = sample_bitstrings(psi_bell, shots=shots)\n",
    "\n",
    "# Make histogram\n",
    "counts = {b: int(np.sum(idx == i)) for i, b in enumerate(BITSTR)}\n",
    "print(counts)\n",
    "plt.bar(counts.keys(), counts.values())\n",
    "plt.xlabel(\"bitstring\"); plt.ylabel(\"counts\"); plt.title(\"Bell state measurement histogram\")\n",
    "plt.show()"
   ]
  },
  {
   "cell_type": "code",
   "execution_count": 5,
   "id": "3734f630",
   "metadata": {},
   "outputs": [
    {
     "data": {
      "image/png": "[encoded data removed]",
      "text/plain": [
       "<Figure size 920x250 with 4 Axes>"
      ]
     },
     "metadata": {},
     "output_type": "display_data"
    }
   ],
   "source": [
    "import math\n",
    "\n",
    "class QubitSystem:\n",
    "    def __init__(self, statevector: np.ndarray, label: str = \"Qubit System\"):\n",
    "        self.label = label\n",
    "        self.set_statevector(statevector)\n",
    "\n",
    "    def set_statevector(self, statevector: np.ndarray):\n",
    "        sv = np.asarray(statevector, dtype=np.complex128).flatten()\n",
    "        if sv.ndim != 1:\n",
    "            raise ValueError(\"Statevector must be 1D.\")\n",
    "        n_states = sv.size\n",
    "        n_qubits = int(round(math.log2(n_states)))\n",
    "        if 2**n_qubits != n_states:\n",
    "            raise ValueError(\"Length must be a power of 2.\")\n",
    "        # Defensive normalization (harmless if already normalized)\n",
    "        norm = np.linalg.norm(sv)\n",
    "        if norm != 0 and not np.isclose(norm, 1.0):\n",
    "            sv = sv / norm\n",
    "\n",
    "        self.n_qubits = n_qubits\n",
    "        self.n_states = n_states\n",
    "        self.amps  = sv\n",
    "        self.prob  = np.abs(sv)**2\n",
    "        self.phase = np.angle(sv)\n",
    "\n",
    "    def viz_circle(self, max_cols: int = 8, figsize_scale: float = 2.3):\n",
    "        cols = max(1, min(max_cols, self.n_states))\n",
    "        rows = int(math.ceil(self.n_states / cols))\n",
    "\n",
    "        fig, axes = plt.subplots(\n",
    "            rows, cols,\n",
    "            figsize=(cols*figsize_scale, rows*(figsize_scale+0.2))\n",
    "        )\n",
    "        axes = np.atleast_2d(axes)\n",
    "\n",
    "        def bitstr(i: int, n: int) -> str:\n",
    "            return format(i, f\"0{n}b\")\n",
    "\n",
    "        for idx in range(rows * cols):\n",
    "            r, c = divmod(idx, cols)\n",
    "            ax = axes[r, c]\n",
    "            ax.set_aspect(\"equal\")\n",
    "            ax.set_xlim(0, 1); ax.set_ylim(0, 1)\n",
    "            ax.axis(\"off\")\n",
    "\n",
    "            if idx >= self.n_states:\n",
    "                ax.set_visible(False)\n",
    "                continue\n",
    "\n",
    "            # Outer reference circle\n",
    "            ax.add_patch(plt.Circle((0.5, 0.5), 0.48, fill=False, lw=1.0, alpha=0.5))\n",
    "\n",
    "            # Filled disk: radius ∝ sqrt(probability) so area ∝ probability\n",
    "            radius = 0.48 * np.sqrt(self.prob[idx])\n",
    "            ax.add_patch(plt.Circle((0.5, 0.5), radius, alpha=0.25))\n",
    "\n",
    "            # Phase arrow\n",
    "            angle = self.phase[idx]\n",
    "            L = 0.45\n",
    "            x2 = 0.5 + L * np.cos(angle)\n",
    "            y2 = 0.5 + L * np.sin(angle)\n",
    "            ax.arrow(0.5, 0.5, x2 - 0.5, y2 - 0.5,\n",
    "                     head_width=0.03, head_length=0.05, length_includes_head=True)\n",
    "\n",
    "            ax.set_title(f\"|{bitstr(idx, self.n_qubits)}⟩\", fontsize=10)\n",
    "\n",
    "        fig.suptitle(self.label, fontsize=12)\n",
    "        plt.tight_layout()\n",
    "        plt.show()\n",
    "\n",
    "bs_system = QubitSystem(psi_bell, \"Bell State Circuit\")\n",
    "bs_system.viz_circle()"
   ]
  },
  {
   "cell_type": "markdown",
   "id": "3136ca76",
   "metadata": {},
   "source": [
    "The only two possible states of the system are $\\ket{00}$ and $\\ket{11}$ since the other basis states have zero amplitude. Both components have the same relative phase, as neither the Hadamard nor the CNOT gate introduces a phase difference. The circle plot shows that the measurement probabilities for $\\ket{00}$ and $\\ket{11}$ are equal, indicated by the equal size of the blue circles."
   ]
  },
  {
   "cell_type": "markdown",
   "id": "3c2ddb9d",
   "metadata": {},
   "source": [
    "## Task 2"
   ]
  },
  {
   "cell_type": "code",
   "execution_count": 6,
   "id": "2ba4ece8",
   "metadata": {},
   "outputs": [],
   "source": [
    "def expand_1q_n(U: np.ndarray, t: int, n: int) -> np.ndarray:\n",
    "    op = np.array([[1]], dtype=U.dtype)\n",
    "    for q in range(n):\n",
    "        op = np.kron(op, U if q == t else I2)\n",
    "    return op\n",
    "\n",
    "# Apply CSWAP, with ancilla as control\n",
    "P0 = np.array([[1,0],[0,0]], dtype=DTYPE)  # |0><0| on ancilla\n",
    "P1 = np.array([[0,0],[0,1]], dtype=DTYPE)  # |1><1| on ancilla\n",
    "SWAP_A0_B0 = np.array([\n",
    "    [1,0,0,0],\n",
    "    [0,0,1,0],\n",
    "    [0,1,0,0],\n",
    "    [0,0,0,1]\n",
    "], dtype=DTYPE)  # SWAP on A0 and B0\n",
    "CSWAP = (np.kron(P0, np.eye(4)) + np.kron(P1, SWAP_A0_B0)) # CSWAP with ancilla as control"
   ]
  },
  {
   "cell_type": "markdown",
   "id": "6b5138c3",
   "metadata": {},
   "source": [
    "#### Function to run the SWAP test circuit for given input states"
   ]
  },
  {
   "cell_type": "code",
   "execution_count": 7,
   "id": "99123d72",
   "metadata": {
    "lines_to_next_cell": 1
   },
   "outputs": [],
   "source": [
    "def run_swap_test(psi, phi):\n",
    "    assert np.isclose(np.sum(np.abs(psi)**2), 1)\n",
    "    assert np.isclose(np.sum(np.abs(phi)**2), 1)\n",
    "    init = np.kron(np.array([1,0], dtype=DTYPE), np.kron(psi, phi))  # |0>_output ⊗ |ψ>_A ⊗ |φ>_B\n",
    "\n",
    "    # Quantum Circuit\n",
    "    U_Ho = expand_1q_n(H, t=0, n=3)\n",
    "    state = U_Ho @ init # first Hadamard\n",
    "    state = CSWAP @ state # CSWAP\n",
    "    state = U_Ho @ state # second Hadamard\n",
    "\n",
    "    # Calculate observed/theoretical fidelity\n",
    "    probs = np.abs(state)**2\n",
    "    prob_1 = probs[4:].sum()   # indices with output=1\n",
    "    F_hat = 1 - 2*prob_1\n",
    "    F_exact = float(np.abs(np.vdot(psi/np.linalg.norm(psi), phi/np.linalg.norm(phi)))**2)\n",
    "    \n",
    "    return prob_1, F_hat, F_exact"
   ]
  },
  {
   "cell_type": "markdown",
   "id": "75a6ead5",
   "metadata": {},
   "source": [
    "#### Case 1: $\\ket{\\psi} = \\ket{\\varphi}$"
   ]
  },
  {
   "cell_type": "code",
   "execution_count": 8,
   "id": "95c96c92",
   "metadata": {},
   "outputs": [],
   "source": [
    "psi = np.array([1, 0], dtype=DTYPE) # INPUT 1\n",
    "phi = np.array([1, 0], dtype=DTYPE) # INPUT 2\n",
    "\n",
    "# Run the swap test\n",
    "prob_1, F_hat, F_exact = run_swap_test(psi, phi)\n",
    "\n",
    "# TESTS\n",
    "assert np.allclose(prob_1, 0)\n",
    "assert np.allclose(F_hat, F_exact, 1)"
   ]
  },
  {
   "cell_type": "markdown",
   "id": "248bdd8c",
   "metadata": {},
   "source": [
    "#### Case 2: $\\ket{\\psi} = \\ket{0}, \\ket{\\varphi} = \\ket{1}$"
   ]
  },
  {
   "cell_type": "code",
   "execution_count": 9,
   "id": "f92c8f8d",
   "metadata": {},
   "outputs": [],
   "source": [
    "psi = np.array([1, 0], dtype=DTYPE) # INPUT 1\n",
    "phi = np.array([0, 1], dtype=DTYPE) # INPUT 2\n",
    "\n",
    "# Run the swap test\n",
    "prob_1, F_hat, F_exact = run_swap_test(psi, phi)\n",
    "\n",
    "# TESTS\n",
    "assert np.allclose(prob_1, 0.5)\n",
    "assert np.allclose(F_hat, F_exact, 0)"
   ]
  },
  {
   "cell_type": "markdown",
   "id": "6c3d7a13",
   "metadata": {},
   "source": [
    "#### Case 3: $\\ket{\\psi} = \\ket{+}, \\ket{\\varphi} = \\ket{1}$"
   ]
  },
  {
   "cell_type": "code",
   "execution_count": 10,
   "id": "e196cccc",
   "metadata": {},
   "outputs": [],
   "source": [
    "psi = np.array([1/np.sqrt(2), 1/np.sqrt(2)], dtype=DTYPE) # INPUT 1\n",
    "phi = np.array([0, 1], dtype=DTYPE) # INPUT 2\n",
    "\n",
    "# Run the swap test\n",
    "prob_1, F_hat, F_exact = run_swap_test(psi, phi)\n",
    "\n",
    "# TESTS\n",
    "assert np.allclose(prob_1, 0.25)\n",
    "assert np.allclose(F_hat, F_exact, 0.5)"
   ]
  },
  {
   "cell_type": "markdown",
   "id": "14555758",
   "metadata": {},
   "source": [
    "As opposed to the lecture videos, this SWAP-test circuit does not have a final NOT gate. Consequently when exactly the same qubits are swapped, we will measure the output bit as 1 with a 0% chance (or 50% chance when the inputs are opposites). Using these probabilities, the output bit defines the Fidelity which is the measure for overlap.\n",
    "\n",
    "$F = 1 - 2 P(\\text{out} = 1)$"
   ]
  },
  {
   "cell_type": "markdown",
   "id": "410603cf",
   "metadata": {},
   "source": [
    "## Bonus Exercise"
   ]
  },
  {
   "cell_type": "markdown",
   "id": "2eb7d136",
   "metadata": {},
   "source": [
    "### Task B.1 — Basis vs $\\ket{5}$: design, simulate, evaluate"
   ]
  },
  {
   "cell_type": "code",
   "execution_count": 11,
   "id": "d0a46ade",
   "metadata": {},
   "outputs": [],
   "source": [
    "# Imports\n",
    "from qiskit import QuantumCircuit, QuantumRegister, ClassicalRegister, transpile\n",
    "from qiskit_aer import AerSimulator\n",
    "import numpy as np\n",
    "import pandas as pd\n",
    "from math import sqrt\n",
    "from tabulate import tabulate"
   ]
  },
  {
   "cell_type": "markdown",
   "id": "1bd024e2",
   "metadata": {},
   "source": [
    "#### Helper functions"
   ]
  },
  {
   "cell_type": "code",
   "execution_count": 12,
   "id": "0afd1dde",
   "metadata": {},
   "outputs": [],
   "source": [
    "def basis_state_prep(qc, qubits, k, n_qubits=3):\n",
    "    \"\"\"Prepare computational-basis state |k> on given qubit indices.\"\"\"\n",
    "    bits = [(k >> i) & 1 for i in range(n_qubits)][::-1]  # MSB first\n",
    "    for qb, b in zip(qubits, bits):\n",
    "        if b == 1:\n",
    "            qc.x(qb)\n",
    "\n",
    "def swap_test_3qubit(k_ref, k_test):\n",
    "    \"\"\"Build SWAP-test circuit comparing 3-qubit basis states k_ref and k_test.\"\"\"\n",
    "    output = QuantumRegister(1, 'output')\n",
    "    R = QuantumRegister(3, 'R')  # reference\n",
    "    L = QuantumRegister(3, 'L')  # test\n",
    "    cbit = ClassicalRegister(1, 'c')\n",
    "    qc = QuantumCircuit(output, R, L, cbit)\n",
    "\n",
    "    # Prepare basis states\n",
    "    basis_state_prep(qc, R, k_ref)\n",
    "    basis_state_prep(qc, L, k_test)\n",
    "\n",
    "    # SWAP test\n",
    "    qc.h(output[0])\n",
    "    for i in range(3):\n",
    "        qc.cswap(output[0], R[i], L[i])  # Ri ↔ Li controlled by output\n",
    "    qc.h(output[0])\n",
    "\n",
    "    qc.measure(output[0], cbit[0])\n",
    "    return qc\n",
    "\n",
    "def estimate_fidelity_from_counts(counts):\n",
    "    \"\"\"Return estimated fidelity F = 1 - 2*P(1) from counts.\"\"\"\n",
    "    shots = sum(counts.values())\n",
    "    p1 = counts.get('1', 0) / shots\n",
    "    f_est = max(0.0, min(1.0, 1 - 2*p1))\n",
    "    return f_est, p1\n",
    "\n",
    "\n",
    "def fidelity_and_se(counts, shots):\n",
    "    f, p1 = estimate_fidelity_from_counts(counts)\n",
    "    # Binomial SE for p1\n",
    "    se_p1 = sqrt(p1 * (1 - p1) / shots)\n",
    "    # Propagate error: F = 1 - 2*p1 ⇒ dF/dp1 = -2\n",
    "    se_f = 2 * se_p1\n",
    "    return f, se_f"
   ]
  },
  {
   "cell_type": "markdown",
   "id": "86cc133e",
   "metadata": {},
   "source": [
    "#### Circuit Design Analysis\n",
    "\n",
    "**Control Distribution**: Each qubit pair (R[i], L[i]) is controlled by the same output qubit.\n",
    "This ensures all three pairs are swapped simultaneously when output=1, maintaining the \n",
    "correct interference pattern for fidelity estimation $F = 1 - 2×P_1$.\n",
    "\n",
    "**Gate Count**: \n",
    "- 3 CSWAP gates (each uses 2 CNOT + 1 Toffoli internally)\n",
    "- Total: ~9 two-qubit gates + 3 three-qubit gates\n",
    "- Plus 2 Hadamard gates on the control qubit\n",
    "- Circuit depth: 6 (reasonable for NISQ devices)"
   ]
  },
  {
   "cell_type": "markdown",
   "id": "5ad4f90f",
   "metadata": {},
   "source": [
    "#### Simulation runs"
   ]
  },
  {
   "cell_type": "code",
   "execution_count": 13,
   "id": "a031cbd3",
   "metadata": {},
   "outputs": [
    {
     "name": "stdout",
     "output_type": "stream",
     "text": [
      "|   shots |   Fidelity k=5 |   SE k=5 |   Fidelity k!=5 |   SE k!=5 |\n",
      "|---------|----------------|----------|-----------------|-----------|\n",
      "|    1000 |              1 |        0 |     0.00857143  | 0.0315949 |\n",
      "|    2000 |              1 |        0 |     0.0245714   | 0.0223473 |\n",
      "|    4000 |              1 |        0 |     0.000642857 | 0.0158112 |\n"
     ]
    }
   ],
   "source": [
    "sim = AerSimulator()\n",
    "shots_list = [1000, 2000, 4000]\n",
    "k_ref = 5\n",
    "\n",
    "results = []\n",
    "for shots in shots_list:\n",
    "    # Positive case\n",
    "    qc_pos = swap_test_3qubit(k_ref, k_ref)\n",
    "    t_qc = transpile(qc_pos, sim)\n",
    "    counts = sim.run(t_qc, shots=shots).result().get_counts()\n",
    "    f_pos_b1, se_pos_b1 = fidelity_and_se(counts, shots)\n",
    "\n",
    "    # Negative cases\n",
    "    f_negs_b1 = []\n",
    "    se_negs_b1 = []\n",
    "    for k in range(8):\n",
    "        if k == k_ref: \n",
    "            continue\n",
    "        qc_neg = swap_test_3qubit(k_ref, k)\n",
    "        t_qc = transpile(qc_neg, sim)\n",
    "        counts = sim.run(t_qc, shots=shots).result().get_counts()\n",
    "        f_neg, se_neg = fidelity_and_se(counts, shots)\n",
    "        f_negs_b1.append(f_neg)\n",
    "        se_negs_b1.append(se_neg)\n",
    "\n",
    "    mean_neg = float(np.mean(f_negs_b1))\n",
    "    mean_se_neg = float(np.mean(se_negs_b1)) # mean of the SEs, not SE of the mean\n",
    "\n",
    "    results.append({'shots': shots,\n",
    "                    'Fidelity k=5': float(f_pos_b1),\n",
    "                    'SE k=5': float(se_pos_b1),\n",
    "                    'Fidelity k!=5': mean_neg,\n",
    "                    'SE k!=5': mean_se_neg})\n",
    "\n",
    "print(tabulate(results, headers=\"keys\", tablefmt=\"github\", showindex=False))"
   ]
  },
  {
   "cell_type": "markdown",
   "id": "40692b5b",
   "metadata": {},
   "source": [
    "#### Analysis\n",
    "\n",
    "**Shot Noise Effects:**\n",
    "- **Identical states**: True fidelity = 1, but estimated ≈ 0.99-1.00 due to finite sampling.\n",
    "  Shot noise causes small deviations from perfect measurement outcomes.\n",
    "- **Different states**: True fidelity = 0, but estimated ≈ 0.001-0.02 due to statistical \n",
    "  fluctuations. P(1) fluctuates around 0.5, causing F_est to fluctuate around 0.\n",
    "\n",
    "**Decision Strategy:**\n",
    "- **Sampling requirement**: Multiple shots needed (single measurement insufficient due to \n",
    "  probabilistic nature)\n",
    "- **Decision rule**: If F_est ≥ 0.5 → \"states equal\", else \"states different\"\n",
    "- **Justification**: Clear separation between F≈1 (identical) and F≈0 (different) cases\n",
    "- **Shot count**: ≥2000 shots recommended for reliable discrimination"
   ]
  },
  {
   "cell_type": "markdown",
   "id": "db93f5ef",
   "metadata": {
    "lines_to_next_cell": 0
   },
   "source": [
    "#### Circuit Visualization (same for B.1 and B.2)"
   ]
  },
  {
   "cell_type": "code",
   "execution_count": 14,
   "id": "351846e9",
   "metadata": {
    "lines_to_next_cell": 0,
    "scrolled": true
   },
   "outputs": [
    {
     "name": "stdout",
     "output_type": "stream",
     "text": [
      "Circuit comparing |5⟩ = |101⟩ vs |3⟩ = |011⟩:\n",
      "Depth: 6\n",
      "Gate counts: OrderedDict({'x': 4, 'cswap': 3, 'h': 2, 'measure': 1})\n"
     ]
    },
    {
     "data": {
      "image/png": "[encoded data removed]",
      "text/plain": [
       "<Figure size 680.238x702.333 with 1 Axes>"
      ]
     },
     "execution_count": 14,
     "metadata": {},
     "output_type": "execute_result"
    }
   ],
   "source": [
    "# Show example circuit\n",
    "example_circuit = swap_test_3qubit(5, 3)\n",
    "print(\"Circuit comparing |5⟩ = |101⟩ vs |3⟩ = |011⟩:\")\n",
    "print(\"Depth:\", example_circuit.depth())\n",
    "print(\"Gate counts:\", example_circuit.count_ops())\n",
    "\n",
    "example_circuit.draw('mpl')"
   ]
  },
  {
   "cell_type": "markdown",
   "id": "1bf4a3e9",
   "metadata": {},
   "source": [
    "### Task B.2 — Superposition variant"
   ]
  },
  {
   "cell_type": "markdown",
   "id": "31826c3c",
   "metadata": {},
   "source": [
    "#### 1. Modified Circuit with Superposition"
   ]
  },
  {
   "cell_type": "code",
   "execution_count": 15,
   "id": "6dce6baf",
   "metadata": {},
   "outputs": [],
   "source": [
    "def swap_test_3qubit_superposition(k_ref, k_test):\n",
    "    \"\"\"Build SWAP-test circuit with superposition on L[0] after basis preparation.\"\"\"\n",
    "    output = QuantumRegister(1, 'output')\n",
    "    R = QuantumRegister(3, 'R')  # reference\n",
    "    L = QuantumRegister(3, 'L')  # test\n",
    "    cbit = ClassicalRegister(1, 'c')\n",
    "    qc = QuantumCircuit(output, R, L, cbit)\n",
    "\n",
    "    # Prepare basis states\n",
    "    basis_state_prep(qc, R, k_ref)\n",
    "    basis_state_prep(qc, L, k_test)\n",
    "    \n",
    "    # Add superposition to L[0] AFTER basis preparation\n",
    "    qc.h(L[0])\n",
    "\n",
    "    # SWAP test\n",
    "    qc.h(output[0])\n",
    "    for i in range(3):\n",
    "        qc.cswap(output[0], R[i], L[i])\n",
    "    qc.h(output[0])\n",
    "\n",
    "    qc.measure(output[0], cbit[0])\n",
    "    return qc"
   ]
  },
  {
   "cell_type": "markdown",
   "id": "b9dda49d",
   "metadata": {},
   "source": [
    "#### Rerun simulation with superposition"
   ]
  },
  {
   "cell_type": "code",
   "execution_count": 16,
   "id": "2895c256",
   "metadata": {},
   "outputs": [
    {
     "name": "stdout",
     "output_type": "stream",
     "text": [
      "|   shots |   Fidelity k=5 |    SE k=5 |   Fidelity k!=5 |   SE k!=5 |\n",
      "|---------|----------------|-----------|-----------------|-----------|\n",
      "|    1000 |          0.49  | 0.0275663 |       0.0757143 | 0.0310199 |\n",
      "|    2000 |          0.512 | 0.0192075 |       0.0701429 | 0.0219608 |\n",
      "|    4000 |          0.51  | 0.0136006 |       0.0803571 | 0.0155103 |\n"
     ]
    }
   ],
   "source": [
    "sim = AerSimulator()\n",
    "shots_list = [1000, 2000, 4000]\n",
    "k_ref = 5\n",
    "\n",
    "results_super = []\n",
    "for shots in shots_list:\n",
    "    # Positive case with superposition\n",
    "    qc_pos = swap_test_3qubit_superposition(k_ref, k_ref)\n",
    "    t_qc = transpile(qc_pos, sim)\n",
    "    counts = sim.run(t_qc, shots=shots).result().get_counts()\n",
    "    f_pos_b2, se_pos_b2 = fidelity_and_se(counts, shots)\n",
    "    \n",
    "    # Negative cases with superposition\n",
    "    f_negs_b2 = []\n",
    "    se_negs_b2 = []\n",
    "    for k in range(8):\n",
    "        if k == k_ref: \n",
    "            continue\n",
    "        qc_neg = swap_test_3qubit_superposition(k_ref, k)\n",
    "        t_qc = transpile(qc_neg, sim)\n",
    "        counts = sim.run(t_qc, shots=shots).result().get_counts()\n",
    "        f_neg, se_neg = fidelity_and_se(counts, shots)\n",
    "        f_negs_b2.append(f_neg)\n",
    "        se_negs_b2.append(se_neg)\n",
    "    \n",
    "    mean_neg_superpos = float(np.mean(f_negs_b2))\n",
    "    mean_se_neg = float(np.mean(se_negs_b2)) # mean of the SEs, not SE of the mean\n",
    "\n",
    "    results_super.append({'shots': shots,\n",
    "                          'Fidelity k=5': float(f_pos_b2),\n",
    "                          'SE k=5': float(se_pos_b2),\n",
    "                          'Fidelity k!=5': mean_neg_superpos,\n",
    "                          'SE k!=5': mean_se_neg})\n",
    "\n",
    "print(tabulate(results_super, headers=\"keys\", tablefmt=\"github\", showindex=False))"
   ]
  },
  {
   "cell_type": "markdown",
   "id": "f7a1b1b4",
   "metadata": {},
   "source": [
    "#### Compare B.1 vs B.2 at 4000 shots"
   ]
  },
  {
   "cell_type": "code",
   "execution_count": 17,
   "id": "4079b01b",
   "metadata": {},
   "outputs": [
    {
     "name": "stdout",
     "output_type": "stream",
     "text": [
      "| Method              |   Fidelity k=5 |   Fidelity k!=5 |   SE k!=5 |\n",
      "|---------------------|----------------|-----------------|-----------|\n",
      "| B.1 (Basis)         |           1    |     0.000642857 | 0.0158112 |\n",
      "| B.2 (Superposition) |           0.51 |     0.0803571   | 0.0155103 |\n"
     ]
    }
   ],
   "source": [
    "b1_4k = next(r for r in results if r['shots'] == 4000)\n",
    "b2_4k = next(r for r in results_super if r['shots'] == 4000)\n",
    "comparison = [\n",
    "    {'Method': 'B.1 (Basis)', 'Fidelity k=5': b1_4k['Fidelity k=5'], 'Fidelity k!=5': b1_4k['Fidelity k!=5'], 'SE k!=5': b1_4k['SE k!=5']},\n",
    "    {'Method': 'B.2 (Superposition)', 'Fidelity k=5': b2_4k['Fidelity k=5'], 'Fidelity k!=5': b2_4k['Fidelity k!=5'], 'SE k!=5': b2_4k['SE k!=5']}\n",
    "]\n",
    "print(tabulate(comparison, headers=\"keys\", tablefmt=\"github\", showindex=False))"
   ]
  },
  {
   "cell_type": "markdown",
   "id": "d88f5275",
   "metadata": {},
   "source": [
    "#### Compare individual k values at 4000 shots"
   ]
  },
  {
   "cell_type": "code",
   "execution_count": 18,
   "id": "d363f73a",
   "metadata": {},
   "outputs": [
    {
     "name": "stdout",
     "output_type": "stream",
     "text": [
      "| Type                |   Fid k=5 |   Fid k=0 |   Fid k=1 |   Fid k=2 |   Fid k=3 |   Fid k=4 |   Fid k=6 |   Fid k=7 |\n",
      "|---------------------|-----------|-----------|-----------|-----------|-----------|-----------|-----------|-----------|\n",
      "| B.1 (Basis)         |      1    |     0     |    0.001  |     0     |         0 |         0 |    0.001  |    0.0025 |\n",
      "| B.2 (Superposition) |      0.51 |     0.024 |    0.4975 |     0.015 |         0 |         0 |    0.0035 |    0.0225 |\n"
     ]
    }
   ],
   "source": [
    "comparison_individual = [\n",
    "    {'Type': 'B.1 (Basis)', 'Fid k=5': f_pos_b1, 'Fid k=0': f_negs_b1[0], 'Fid k=1': f_negs_b1[1], 'Fid k=2': f_negs_b1[2],\n",
    "     'Fid k=3': f_negs_b1[3], 'Fid k=4': f_negs_b1[4], 'Fid k=6': f_negs_b1[5], 'Fid k=7': f_negs_b1[6]},\n",
    "    {'Type': 'B.2 (Superposition)', 'Fid k=5': f_pos_b2, 'Fid k=0': f_negs_b2[0], 'Fid k=1': f_negs_b2[1], 'Fid k=2': f_negs_b2[2],\n",
    "     'Fid k=3': f_negs_b2[3], 'Fid k=4': f_negs_b2[4], 'Fid k=6': f_negs_b2[5], 'Fid k=7': f_negs_b2[6]}\n",
    "]\n",
    "\n",
    "print(tabulate(comparison_individual, headers=\"keys\", tablefmt=\"github\", showindex=False))"
   ]
  },
  {
   "cell_type": "markdown",
   "id": "7fe07697",
   "metadata": {},
   "source": [
    "#### Discussion\n",
    "1. **Do some negatives (k≠5) show larger F_est?** Yes. Some k values show higher fidelity due to superpositions like (|k⟩ + |k±1⟩)/√2 after H(L[0]), where quantum interference in the SWAP test boosts measured fidelity beyond shot noise.\n",
    "2. **Why do some states have higher fidelity?** Constructive interference in superpositions can increase overlap with |5⟩, even if no basis state directly matches the reference.\n",
    "3. **Would B.1 strategy still work?** No. Some negatives can exceed the 0.5 threshold, making simple thresholding unreliable; a higher threshold or different approach is needed."
   ]
  },
  {
   "cell_type": "markdown",
   "id": "f8596228",
   "metadata": {},
   "source": [
    "#### Reflection\n",
    "**What changed:** Superposition spreads amplitude over two basis states, creating quantum interference effects that weren't present in the pure basis state comparison.\n",
    "\n",
    "**Impact:** Some k≠5 cases now show significant fidelity with |5⟩ due to constructive interference in the SWAP test measurement, even when neither basis component directly matches the reference state.\n",
    "\n",
    "**Improvement to try:** Use adaptive threshold based on statistical confidence intervals, or implement multi-shot validation with majority voting to distinguish genuine state equality from interference-induced high fidelity."
   ]
  },
  {
   "cell_type": "markdown",
   "id": "1ea82f0e",
   "metadata": {},
   "source": [
    "## AI Assistance Disclosure\n",
    "\n",
    "**Tool used:** ChatGPT (GPT-5 mini)  \n",
    "\n",
    "**Usage:** Used to review and improve explanatory text and help implementing standard error calculations."
   ]
  }
 ],
 "metadata": {
  "kernelspec": {
   "display_name": "Python 3 (ipykernel)",
   "language": "python",
   "name": "python3"
  },
  "language_info": {
   "codemirror_mode": {
    "name": "ipython",
    "version": 3
   },
   "file_extension": ".py",
   "mimetype": "text/x-python",
   "name": "python",
   "nbconvert_exporter": "python",
   "pygments_lexer": "ipython3",
   "version": "3.13.7"
  }
 },
 "nbformat": 4,
 "nbformat_minor": 5
}
